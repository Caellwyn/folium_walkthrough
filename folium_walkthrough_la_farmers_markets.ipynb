{
  "nbformat": 4,
  "nbformat_minor": 0,
  "metadata": {
    "colab": {
      "name": "folium_walkthrough_la_farmers_markets.ipynb",
      "provenance": [],
      "collapsed_sections": []
    },
    "kernelspec": {
      "display_name": "Python 3",
      "language": "python",
      "name": "python3"
    },
    "language_info": {
      "codemirror_mode": {
        "name": "ipython",
        "version": 3
      },
      "file_extension": ".py",
      "mimetype": "text/x-python",
      "name": "python",
      "nbconvert_exporter": "python",
      "pygments_lexer": "ipython3",
      "version": "3.8.3"
    }
  },
  "cells": [
    {
      "cell_type": "code",
      "metadata": {
        "id": "VS5E4xg9e0HG"
      },
      "source": [
        "#!pip install folium\n",
        "import pandas as pd\n",
        "import folium\n",
        "\n",
        "csvpath = r'https://opendata.arcgis.com/datasets/c25921094a7d40e48302ad3a92fbed90_40.csv'\n",
        "df = pd.read_csv(csvpath)\n",
        "df = df.dropna(subset = ['hours'])\n",
        "df = df[['latitude','longitude','hours','phones','Name','org_name']]\n",
        "df['org_name'] = df['org_name'].fillna('')"
      ],
      "execution_count": null,
      "outputs": []
    },
    {
      "cell_type": "code",
      "metadata": {
        "id": "ieT530BGRj0v",
        "scrolled": true
      },
      "source": [
        "farmers_markets = folium.Map(location=[34,-118.2], zoom_start=10)\n",
        "\n",
        "farmers_markets"
      ],
      "execution_count": null,
      "outputs": []
    },
    {
      "cell_type": "code",
      "metadata": {
        "id": "Fm08tcp2e0HK"
      },
      "source": [
        "for index, row in df.iterrows():\n",
        "\n",
        "        folium.Marker(\n",
        "            [row['latitude'],row['longitude']],\n",
        "            tooltip = row['Name']).add_to(farmers_markets)\n",
        "        \n",
        "farmers_markets"
      ],
      "execution_count": null,
      "outputs": []
    },
    {
      "cell_type": "code",
      "metadata": {
        "id": "0hBzc09De0HM"
      },
      "source": [
        "for index, row in df.iterrows():\n",
        "        text = f\"\"\"\n",
        "        <h3><b> {row.Name} </b></h3><br>\n",
        "        <p style=\"text-align:center;\">{row.hours}</p>   \n",
        "        <p style=\"text-align:center;\">\n",
        "        <img src=\"https://bit.ly/3iOISd4\" alt=\"Farmer's Market Photo\" style = \"width:200px;height:200px;\"> \n",
        "        <br>\n",
        "        Image Courtesy of Kyle Neiber<br></p>\n",
        "        <p style=\"text-align:center;color:blue\">\n",
        "        {row.org_name}<br>\n",
        "        {row.phones}\n",
        "        </p>\n",
        "            \"\"\"\n",
        "        folium.Marker(\n",
        "            [row['latitude'],row['longitude']],\n",
        "           popup = folium.Popup(text, max_width = 400),\n",
        "            tooltip = row['Name']).add_to(farmers_markets)\n",
        "        \n",
        "farmers_markets"
      ],
      "execution_count": null,
      "outputs": []
    }
  ]
}